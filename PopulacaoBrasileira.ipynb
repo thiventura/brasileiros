{
  "cells": [
    {
      "cell_type": "markdown",
      "metadata": {
        "id": "kyGyAAZ0P12T"
      },
      "source": [
        "# Preparação"
      ]
    },
    {
      "cell_type": "code",
      "execution_count": null,
      "metadata": {
        "id": "F_99cEIbeF-1"
      },
      "outputs": [],
      "source": [
        "import numpy as np\n",
        "import random\n",
        "import sqlite3\n",
        "from google.colab import drive"
      ]
    },
    {
      "cell_type": "code",
      "execution_count": null,
      "metadata": {
        "id": "GEi66cvIABSa"
      },
      "outputs": [],
      "source": [
        "drive.mount('/content/drive', force_remount=True)"
      ]
    },
    {
      "cell_type": "code",
      "execution_count": null,
      "metadata": {
        "id": "Ka3Wp9BCYNN8"
      },
      "outputs": [],
      "source": [
        "random.seed(2702)\n",
        "n_populacao = 203062512"
      ]
    },
    {
      "cell_type": "markdown",
      "metadata": {
        "id": "3TW9ve07P4DA"
      },
      "source": [
        "# Base de dados"
      ]
    },
    {
      "cell_type": "code",
      "execution_count": null,
      "metadata": {
        "id": "hki-RtTVOxXU"
      },
      "outputs": [],
      "source": [
        "%load_ext sql"
      ]
    },
    {
      "cell_type": "code",
      "execution_count": null,
      "metadata": {
        "id": "5B-Ql_UTO0qH"
      },
      "outputs": [],
      "source": [
        "%%sql\n",
        "sqlite:////content/drive/MyDrive/brasileiros.db"
      ]
    },
    {
      "cell_type": "code",
      "execution_count": null,
      "metadata": {
        "id": "A3UD6vT4TYoj"
      },
      "outputs": [],
      "source": [
        "conn = sqlite3.connect('/content/drive/MyDrive/brasileiros.db')\n",
        "cursor = conn.cursor()"
      ]
    },
    {
      "cell_type": "code",
      "execution_count": null,
      "metadata": {
        "id": "feTbYPS05o1N"
      },
      "outputs": [],
      "source": [
        "cursor.execute(\"create table if not exists estado (id int, estado varchar);\")\n",
        "cursor.execute(\"create table if not exists genero (id int, genero char);\")\n",
        "cursor.execute(\"create table if not exists raca (id int, raca varchar);\")\n",
        "cursor.execute(\"create table if not exists idade (id int, idade int);\")\n",
        "cursor.execute(\"create table if not exists escolaridade (id int, escolaridade varchar);\")\n",
        "cursor.execute(\"create table if not exists renda (id int, renda double);\")"
      ]
    },
    {
      "cell_type": "code",
      "source": [
        "r_set=conn.execute('''select count(*) from estado limit 10''')\n",
        "for row in r_set:\n",
        "  print(\"estado\", row)"
      ],
      "metadata": {
        "id": "bvnaLZskVeAb"
      },
      "execution_count": null,
      "outputs": []
    },
    {
      "cell_type": "code",
      "execution_count": null,
      "metadata": {
        "id": "CH232R-bmdv_"
      },
      "outputs": [],
      "source": [
        "r_set=conn.execute('''select count(*) from estado''')\n",
        "for row in r_set:\n",
        "  print(\"estado\", row)\n",
        "\n",
        "r_set=conn.execute('''select count(*) from genero''')\n",
        "for row in r_set:\n",
        "  print(\"genero\", row)\n",
        "\n",
        "r_set=conn.execute('''select count(*) from raca''')\n",
        "for row in r_set:\n",
        "  print(\"raca\", row)\n",
        "\n",
        "r_set=conn.execute('''select count(*) from idade''')\n",
        "for row in r_set:\n",
        "  print(\"idade\", row)\n",
        "\n",
        "r_set=conn.execute('''select count(*) from escolaridade''')\n",
        "for row in r_set:\n",
        "  print(\"escolaridade\", row)\n",
        "\n",
        "r_set=conn.execute('''select count(*) from renda''')\n",
        "for row in r_set:\n",
        "  print(\"renda\", row)"
      ]
    },
    {
      "cell_type": "markdown",
      "metadata": {
        "id": "QZ7jWlpwP_tB"
      },
      "source": [
        "# Estado"
      ]
    },
    {
      "cell_type": "code",
      "execution_count": null,
      "metadata": {
        "id": "61N82pESYrtb"
      },
      "outputs": [],
      "source": [
        "# 1. Obter população por Estado e instanciar N indivíduos com suas respectivas moradias\n",
        "# https://g1.globo.com/economia/censo/noticia/2023/06/28/censo-2022-brasil-tem-203-milhoes-de-habitantes-47-milhoes-a-menos-que-estimativa-do-ibge.ghtml\n",
        "\n",
        "estado = np.array([None] * n_populacao)\n",
        "\n",
        "# Acre – 830.026 habitantes\n",
        "estado[0:830026] = 'AC'\n",
        "\n",
        "# Alagoas – 3.127.511 habitantes\n",
        "estado[830026:3957537] = 'AL'\n",
        "\n",
        "# Amapá – 733.508 habitantes\n",
        "estado[3957537:4691045] = 'AP'\n",
        "\n",
        "# Amazonas – 3.941.175 habitantes\n",
        "estado[4691045:8632220] = 'AM'\n",
        "\n",
        "# Bahia – 14.136.417 habitantes\n",
        "estado[8632220:22768637] = 'BA'\n",
        "\n",
        "# Ceará – 8.791.688 habitantes\n",
        "estado[22768637:31560325] = 'CE'\n",
        "\n",
        "# Distrito Federal – 2.817.068 habitantes\n",
        "estado[31560325:34377393] = 'DF'\n",
        "\n",
        "# Espírito Santo – 3.833.486 habitantes\n",
        "estado[34377393:38210879] = 'ES'\n",
        "\n",
        "# Goiás – 7.055.228 habitantes\n",
        "estado[38210879:45266107] = 'GO'\n",
        "\n",
        "# Maranhão – 6.775.152 habitantes\n",
        "estado[45266107:52041259] = 'MA'\n",
        "\n",
        "# Mato Grosso – 3.658.813 habitantes\n",
        "estado[52041259:55700072] = 'MT'\n",
        "\n",
        "# Mato Grosso do Sul – 2.756.700 habitantes\n",
        "estado[55700072:58456772] = 'MS'\n",
        "\n",
        "# Minas Gerais – 20.538.718 habitantes\n",
        "estado[58456772:78995490] = 'MG'\n",
        "\n",
        "# Pará – 8.116.132 habitantes\n",
        "estado[78995490:87111622] = 'PA'\n",
        "\n",
        "# Paraíba – 3.974.495 habitantes\n",
        "estado[87111622:91086117] = 'PB'\n",
        "\n",
        "# Paraná – 11.443.208 habitantes\n",
        "estado[91086117:102529325] = 'PR'\n",
        "\n",
        "# Pernambuco – 9.058.155 habitantes\n",
        "estado[102529325:111587480] = 'PE'\n",
        "\n",
        "# Piauí – 3.269.200 habitantes\n",
        "estado[111587480:114856680] = 'PI'\n",
        "\n",
        "# Rio de Janeiro – 16.054.524 habitantes\n",
        "estado[114856680:130911204] = 'RJ'\n",
        "\n",
        "# Rio Grande do Norte – 3.302.406 habitantes\n",
        "estado[130911204:134213610] = 'RN'\n",
        "\n",
        "# Rio Grande do Sul – 10.880.506 habitantes\n",
        "estado[134213610:145094116] = 'RS'\n",
        "\n",
        "# Rondônia – 1.581.016 habitantes\n",
        "estado[145094116:146675132] = 'RO'\n",
        "\n",
        "# Roraima – 636.303 habitantes\n",
        "estado[146675132:147311435] = 'RR'\n",
        "\n",
        "# Santa Catarina – 7.609.601 habitantes\n",
        "estado[147311435:154921036] = 'SC'\n",
        "\n",
        "# São Paulo – 44.420.459 habitantes\n",
        "estado[154921036:199341495] = 'SP'\n",
        "\n",
        "# Sergipe – 2.209.558 habitantes\n",
        "estado[199341495:201551053] = 'SE'\n",
        "\n",
        "# Tocantins – 1.511.459 habitantes\n",
        "estado[201551053:203062512] = 'TO'"
      ]
    },
    {
      "cell_type": "code",
      "execution_count": null,
      "metadata": {
        "id": "TaVLM0ODQ0VY"
      },
      "outputs": [],
      "source": [
        "i = 1\n",
        "\n",
        "for e in estado:\n",
        "  cursor.execute( f\"INSERT INTO estado (id, estado) VALUES ({i}, '{e}')\" )\n",
        "  i += 1\n",
        "\n",
        "  if i % 5000000 == 0:\n",
        "    print (i/203062512*100, \"%\")"
      ]
    },
    {
      "cell_type": "code",
      "execution_count": null,
      "metadata": {
        "id": "NwYcoDrjbQK8"
      },
      "outputs": [],
      "source": [
        "conn.commit()\n",
        "del estado"
      ]
    },
    {
      "cell_type": "markdown",
      "metadata": {
        "id": "aSJEDPyDbFX6"
      },
      "source": [
        "# Genero"
      ]
    },
    {
      "cell_type": "code",
      "execution_count": null,
      "metadata": {
        "id": "K3FG4bGAdHCh"
      },
      "outputs": [],
      "source": [
        "# 2. Obter % de sexualidade e atualizar os indivíduos\n",
        "# https://investalk.bb.com.br/noticia/ibge-brasil-tem-6-milhoes-de-mulheres-a-mais-que-homens-942-homens-para-cada-100-mulheres\n",
        "\n",
        "n_homens = (int) (n_populacao * 0.485)\n",
        "\n",
        "homens = random.sample(range(1, n_populacao+1), k=n_homens)\n",
        "homens.sort()\n",
        "\n",
        "i = 1\n",
        "for h in homens:\n",
        "\n",
        "  while i < h:\n",
        "    cursor.execute( f\"INSERT INTO genero (id, genero) VALUES ({i}, 'F')\" )\n",
        "    i += 1\n",
        "\n",
        "  cursor.execute( f\"INSERT INTO genero (id, genero) VALUES ({i}, 'M')\" )\n",
        "  i += 1\n",
        "\n",
        "  if i % 5000000 == 0:\n",
        "    print (i/203062512*100, \"%\")\n",
        "\n",
        "while i <= n_populacao:\n",
        "  cursor.execute( f\"INSERT INTO genero (id, genero) VALUES ({i}, 'F')\" )\n",
        "  i += 1"
      ]
    },
    {
      "cell_type": "code",
      "execution_count": null,
      "metadata": {
        "id": "0Gvuao64f3F0"
      },
      "outputs": [],
      "source": [
        "conn.commit()\n",
        "del homens"
      ]
    },
    {
      "cell_type": "markdown",
      "metadata": {
        "id": "d5FDvwnL-kor"
      },
      "source": [
        "# Raça"
      ]
    },
    {
      "cell_type": "code",
      "execution_count": null,
      "metadata": {
        "id": "5wDpudCr8Cg2"
      },
      "outputs": [],
      "source": [
        "# 3. Obter % de raça e atualizar os indivíduos\n",
        "# https://educa.ibge.gov.br/jovens/conheca-o-brasil/populacao/18319-cor-ou-raca.html"
      ]
    },
    {
      "cell_type": "code",
      "execution_count": null,
      "metadata": {
        "id": "A9sYxnoBsNbi"
      },
      "outputs": [],
      "source": [
        "def definirRacaEstado(populacaoEstado, idxInicial, p_regiao_b, p_regiao_pr):\n",
        "\n",
        "  print (\"Processando população:\", idxInicial)\n",
        "\n",
        "  n_raca_b = (int) (populacaoEstado * p_regiao_b)\n",
        "  n_raca_pr = (int) (populacaoEstado * p_regiao_pr)\n",
        "  n_raca_pa = populacaoEstado - n_raca_b - n_raca_pr\n",
        "\n",
        "  racaSorteada = 'PA'\n",
        "\n",
        "  for i in range(idxInicial, idxInicial+populacaoEstado):\n",
        "    rand = random.random()\n",
        "\n",
        "    if n_raca_b > 0:\n",
        "      if n_raca_pr > 0:\n",
        "        if n_raca_pa > 0:\n",
        "\n",
        "          # Ainda tem as 3 raças para distribuir\n",
        "          if rand < p_regiao_b:\n",
        "            racaSorteada = 'B'\n",
        "          elif rand < p_regiao_b + p_regiao_pr:\n",
        "            racaSorteada = 'PR'\n",
        "          else:\n",
        "            racaSorteada = 'PA'\n",
        "\n",
        "        else:\n",
        "          # Apenas raça B e PR\n",
        "          if rand < p_regiao_b:\n",
        "            racaSorteada = 'B'\n",
        "          else:\n",
        "            racaSorteada = 'PR'\n",
        "\n",
        "      else:\n",
        "          if n_raca_pa > 0:\n",
        "            # Apenas raça B e PA\n",
        "            if rand < p_regiao_b:\n",
        "              racaSorteada = 'B'\n",
        "            else:\n",
        "              racaSorteada = 'PA'\n",
        "          else:\n",
        "              # Apenas raça B\n",
        "              racaSorteada = 'B'\n",
        "    else:\n",
        "      if n_raca_pr > 0:\n",
        "        if n_raca_pa > 0:\n",
        "            # Apenas raça PR e PA\n",
        "            if rand < p_regiao_pr:\n",
        "              racaSorteada = 'PR'\n",
        "            else:\n",
        "              racaSorteada = 'PA'\n",
        "        else:\n",
        "          # Apenas PR\n",
        "          racaSorteada = 'PR'\n",
        "      else:\n",
        "        # Apenas PA\n",
        "        racaSorteada = 'PA'\n",
        "\n",
        "\n",
        "    if racaSorteada == 'PR':\n",
        "      cursor.execute( f\"INSERT INTO raca (id, raca) VALUES ({i}, 'PR')\" )\n",
        "      n_raca_pr -= 1\n",
        "    elif racaSorteada == 'B':\n",
        "      cursor.execute( f\"INSERT INTO raca (id, raca) VALUES ({i}, 'B')\" )\n",
        "      n_raca_b -= 1\n",
        "    else:\n",
        "      cursor.execute( f\"INSERT INTO raca (id, raca) VALUES ({i}, 'PA')\" )\n",
        "      n_raca_pa -= 1"
      ]
    },
    {
      "cell_type": "code",
      "execution_count": null,
      "metadata": {
        "id": "49hNbjiNyKvD"
      },
      "outputs": [],
      "source": [
        "# # B - branca\n",
        "# PR - preta\n",
        "# PA - parda\n",
        "\n",
        "# Região        Branca  PReta PArda\n",
        "# norte         19.7    8.3   70.1\n",
        "# nordeste      24.9    13.4  60.5\n",
        "# sudeste       50.1    11.2  37.3\n",
        "# sul           72.8    5.4   20.9\n",
        "# centro oeste  36.1    9.6   53\n",
        "\n",
        "p_norte_b = 0.197\n",
        "p_norte_pr = 0.083\n",
        "p_nordeste_b = 0.249\n",
        "p_nordeste_pr = 0.134\n",
        "p_sudeste_b = 0.501\n",
        "p_sudeste_pr = 0.112\n",
        "p_sul_b = 0.728\n",
        "p_sul_pr = 0.054\n",
        "p_centro_b = 0.361\n",
        "p_centro_pr = 0.096\n",
        "\n",
        "# Acre – 830.026 habitantes\n",
        "definirRacaEstado(830026, 1, p_norte_b, p_norte_pr)\n",
        "\n",
        "# Alagoas – 3.127.511 habitantes\n",
        "definirRacaEstado(3127511, 830027, p_nordeste_b, p_nordeste_pr)\n",
        "\n",
        "# Amapá – 733.508 habitantes\n",
        "definirRacaEstado(733508, 3957538, p_norte_b, p_norte_pr)\n",
        "\n",
        "# Amazonas – 3.941.175 habitantes\n",
        "definirRacaEstado(3941175, 4691046, p_norte_b, p_norte_pr)\n",
        "\n",
        "# Bahia – 14.136.417 habitantes\n",
        "definirRacaEstado(14136417, 8632221, p_nordeste_b, p_nordeste_pr)\n",
        "\n",
        "# Ceará – 8.791.688 habitantes\n",
        "definirRacaEstado(8791688, 22768638, p_nordeste_b, p_nordeste_pr)\n",
        "\n",
        "# Distrito Federal – 2.817.068 habitantes\n",
        "definirRacaEstado(2817068, 31560326, p_centro_b, p_centro_pr)\n",
        "\n",
        "# Espírito Santo – 3.833.486 habitantes\n",
        "definirRacaEstado(3833486, 34377394, p_sudeste_b, p_sudeste_pr)\n",
        "\n",
        "# Goiás – 7.055.228 habitantes\n",
        "definirRacaEstado(7055228, 38210880, p_centro_b, p_centro_pr)\n",
        "\n",
        "# Maranhão – 6.775.152 habitantes\n",
        "definirRacaEstado(6775152, 45266108, p_nordeste_b, p_nordeste_pr)\n",
        "\n",
        "# Mato Grosso – 3.658.813 habitantes\n",
        "definirRacaEstado(3658813, 52041260, p_centro_b, p_centro_pr)\n",
        "\n",
        "# Mato Grosso do Sul – 2.756.700 habitantes\n",
        "definirRacaEstado(2756700, 55700073, p_centro_b, p_centro_pr)\n",
        "\n",
        "# Minas Gerais – 20.538.718 habitantes\n",
        "definirRacaEstado(20538718, 58456773, p_sudeste_b, p_sudeste_pr)\n",
        "\n",
        "# Pará – 8.116.132 habitantes\n",
        "definirRacaEstado(8116132, 78995491, p_norte_b, p_norte_pr)\n",
        "\n",
        "# Paraíba – 3.974.495 habitantes\n",
        "definirRacaEstado(3974495, 87111623, p_nordeste_b, p_nordeste_pr)\n",
        "\n",
        "# Paraná – 11.443.208 habitantes\n",
        "definirRacaEstado(11443208, 91086118, p_sul_b, p_sul_pr)\n",
        "\n",
        "# Pernambuco – 9.058.155 habitantes\n",
        "definirRacaEstado(9058155, 102529326, p_nordeste_b, p_nordeste_pr)\n",
        "\n",
        "# Piauí – 3.269.200 habitantes\n",
        "definirRacaEstado(3269200, 111587481, p_nordeste_b, p_nordeste_pr)\n",
        "\n",
        "# Rio de Janeiro – 16.054.524 habitantes\n",
        "definirRacaEstado(16054524, 114856681, p_sudeste_b, p_sudeste_pr)\n",
        "\n",
        "# Rio Grande do Norte – 3.302.406 habitantes\n",
        "definirRacaEstado(3302406, 130911205, p_nordeste_b, p_nordeste_pr)\n",
        "\n",
        "# Rio Grande do Sul – 10.880.506 habitantes\n",
        "definirRacaEstado(10880506, 134213611, p_sul_b, p_sul_pr)\n",
        "\n",
        "# Rondônia – 1.581.016 habitantes\n",
        "definirRacaEstado(1581016, 145094117, p_norte_b, p_norte_pr)\n",
        "\n",
        "# Roraima – 636.303 habitantes\n",
        "definirRacaEstado(636303, 146675133, p_norte_b, p_norte_pr)\n",
        "\n",
        "# Santa Catarina – 7.609.601 habitantes\n",
        "definirRacaEstado(7609601, 147311436, p_sul_b, p_sul_pr)\n",
        "\n",
        "# São Paulo – 44.420.459 habitantes\n",
        "definirRacaEstado(44420459, 154921037, p_sudeste_b, p_sudeste_pr)\n",
        "\n",
        "# Sergipe – 2.209.558 habitantes\n",
        "definirRacaEstado(2209558, 199341496, p_nordeste_b, p_nordeste_pr)\n",
        "\n",
        "# Tocantins – 1.511.459 habitantes\n",
        "definirRacaEstado(1511459, 201551054, p_norte_b, p_norte_pr)"
      ]
    },
    {
      "cell_type": "code",
      "execution_count": null,
      "metadata": {
        "id": "FxIb-_trnHTS"
      },
      "outputs": [],
      "source": [
        "conn.commit()"
      ]
    },
    {
      "cell_type": "markdown",
      "metadata": {
        "id": "VQyntW-R6VhD"
      },
      "source": [
        "# Idade"
      ]
    },
    {
      "cell_type": "code",
      "execution_count": null,
      "metadata": {
        "id": "zf15fbNicd45"
      },
      "outputs": [],
      "source": [
        "# 4. Obter % das faixas de idade e atualizar os indivíduos sorteando valores da faixa\n",
        "# (tem que mudar distribuição na última faixa)\n",
        "# https://biblioteca.ibge.gov.br/visualizacao/livros/liv102004_informativo.pdf"
      ]
    },
    {
      "cell_type": "code",
      "execution_count": null,
      "metadata": {
        "id": "CJn7FqxPcf41"
      },
      "outputs": [],
      "source": [
        "def definirFaixaEtaria(inicio, fim, porcentagem, ids, count):\n",
        "  print (\"Processando faixa etária:\", inicio, fim)\n",
        "\n",
        "  n_faixa = (int) (n_populacao * porcentagem)\n",
        "\n",
        "  idades = np.random.randint(inicio, fim+1, n_faixa)\n",
        "  countIdade = 0\n",
        "\n",
        "  for n in range(n_faixa):\n",
        "    id = ids[count]\n",
        "    idade = idades[countIdade]\n",
        "\n",
        "    count += 1\n",
        "    countIdade += 1\n",
        "\n",
        "    cursor.execute( f\"INSERT INTO idade (id, idade) VALUES ({id}, {idade})\" )\n",
        "\n",
        "  del idades\n",
        "  return count"
      ]
    },
    {
      "cell_type": "code",
      "execution_count": null,
      "metadata": {
        "id": "dzX8tyfp6WWo"
      },
      "outputs": [],
      "source": [
        "ids = np.arange(1, n_populacao+1)\n",
        "np.random.shuffle(ids)\n",
        "count = 0\n",
        "\n",
        "# 0 a 4 anos: 6,8%\n",
        "count = definirFaixaEtaria(0, 4, 0.068, ids, count)\n",
        "\n",
        "# 5 a 9 anos: 6,8%\n",
        "count = definirFaixaEtaria(5, 9, 0.068, ids, count)\n",
        "\n",
        "# 10 a 13 anos: 5,4%\n",
        "count = definirFaixaEtaria(10, 13, 0.054, ids, count)\n",
        "\n",
        "# 14 a 17 anos: 5,6%\n",
        "count = definirFaixaEtaria(14, 17, 0.056, ids, count)\n",
        "\n",
        "# 18 a 19 anos: 2,9%\n",
        "count = definirFaixaEtaria(18, 19, 0.029, ids, count)\n",
        "\n",
        "# 20 a 24 anos: 7,9%\n",
        "count = definirFaixaEtaria(20, 24, 0.079, ids, count)\n",
        "\n",
        "# 25 a 29 anos: 8,0%\n",
        "count = definirFaixaEtaria(25, 29, 0.08, ids, count)\n",
        "\n",
        "# 30 a 39 anos: 15,9%\n",
        "count = definirFaixaEtaria(30, 39, 0.159, ids, count)\n",
        "\n",
        "# 40 a 49 anos: 14,2%\n",
        "count = definirFaixaEtaria(40, 49, 0.142, ids, count)\n",
        "\n",
        "# 50 a 59 anos: 11,4%\n",
        "count = definirFaixaEtaria(50, 59, 0.114, ids, count)\n",
        "\n",
        "# 60 a 64 anos: 4,6%\n",
        "count = definirFaixaEtaria(60, 64, 0.046, ids, count)\n",
        "\n",
        "# 65 ou mais: 10,5%\n",
        "print (\"Processando faixa etária:\", 65)\n",
        "registros = range(count, n_populacao)\n",
        "randomGamma = np.random.gamma(2, 1, len(registros))\n",
        "min_val = 65\n",
        "max_val = 120\n",
        "range_out = max_val - min_val\n",
        "lo_in = np.min(randomGamma)\n",
        "hi_in = np.max(randomGamma)\n",
        "range_in = hi_in - lo_in\n",
        "idades = ((randomGamma - lo_in) / range_in) * range_out + min_val\n",
        "countIdade = 0\n",
        "for count in registros:\n",
        "  id = ids[count]\n",
        "  idade = round(idades[countIdade])\n",
        "  countIdade += 1\n",
        "  cursor.execute( f\"INSERT INTO idade (id, idade) VALUES ({id}, {idade})\" )"
      ]
    },
    {
      "cell_type": "code",
      "execution_count": null,
      "metadata": {
        "id": "nNluW1AoPX2F"
      },
      "outputs": [],
      "source": [
        "conn.commit()\n",
        "del ids\n",
        "del registros"
      ]
    },
    {
      "cell_type": "markdown",
      "metadata": {
        "id": "Mnj8JbpfmP5e"
      },
      "source": [
        "# Escolaridade"
      ]
    },
    {
      "cell_type": "code",
      "execution_count": null,
      "metadata": {
        "id": "3Jwf_9XfmSFr"
      },
      "outputs": [],
      "source": [
        "# 5. Obter % de escolaridade e atualizar indivíduos\n",
        "# https://sidra.ibge.gov.br/tabela/7267#resultado\n",
        "# https://biblioteca.ibge.gov.br/visualizacao/livros/liv102002_informativo.pdf\n",
        "\n",
        "# Média brasileira de nível de instrução considerando sexo\n",
        "# Homens\t  Fundamental incompleto\t0,326483773\n",
        "# Homens\t  Fundamental completo\t  0,179702349\n",
        "# Homens\t  Médio completo\t        0,355627279\n",
        "# Homens\t  Superior completo\t      0,1381866\n",
        "# Mulheres\tFundamental incompleto\t0,296716324\n",
        "# Mulheres\tFundamental completo\t  0,161678522\n",
        "# Mulheres\tMédio completo\t        0,361014182\n",
        "# Mulheres\tSuperior completo\t      0,180590972\n",
        "\n",
        "# FI - fundamental incompleto\n",
        "# FC - fundamental completo\n",
        "# MC - médio completo\n",
        "# SC - superior compelto"
      ]
    },
    {
      "cell_type": "code",
      "execution_count": null,
      "metadata": {
        "colab": {
          "background_save": true
        },
        "id": "H3BuHo_lmZtn"
      },
      "outputs": [],
      "source": [
        "# recuperar sexo em sequência\n",
        "generos = conn.execute(\"select id, genero from genero\")\n",
        "\n",
        "escolaridade = ''\n",
        "\n",
        "for id, genero in generos:\n",
        "  p = np.random.random()\n",
        "\n",
        "  if genero == 'M':\n",
        "    if p < 0.326483773:\n",
        "      escolaridade = 'FI'\n",
        "    elif p < 0.506186122:\n",
        "      escolaridade = 'FC'\n",
        "    elif p < 0.861813401:\n",
        "      escolaridade = 'MC'\n",
        "    else:\n",
        "      escolaridade = 'SC'\n",
        "\n",
        "  else:\n",
        "    if p < 0.296716324:\n",
        "      escolaridade = 'FI'\n",
        "    elif p < 0.458394846:\n",
        "      escolaridade = 'FC'\n",
        "    elif p < 0.819409028:\n",
        "      escolaridade = 'MC'\n",
        "    else:\n",
        "      escolaridade = 'SC'\n",
        "\n",
        "  cursor.execute( f\"INSERT INTO escolaridade (id, escolaridade) VALUES ({id}, '{escolaridade}')\" )\n",
        "\n",
        "  if id % 5000000 == 0:\n",
        "    print (id/203062512*100, \"%\")"
      ]
    },
    {
      "cell_type": "code",
      "execution_count": null,
      "metadata": {
        "colab": {
          "background_save": true
        },
        "id": "VoEyErKNxMq7"
      },
      "outputs": [],
      "source": [
        "conn.commit()\n",
        "del generos"
      ]
    },
    {
      "cell_type": "markdown",
      "metadata": {
        "id": "4gVcDyjunko3"
      },
      "source": [
        "# Renda"
      ]
    },
    {
      "cell_type": "code",
      "execution_count": null,
      "metadata": {
        "colab": {
          "background_save": true
        },
        "id": "JKh-3BPInllY"
      },
      "outputs": [],
      "source": [
        "# 6. Obter % de renda e atualizar os indivíduos\n",
        "# https://sidra.ibge.gov.br/tabela/7444#resultado\n",
        "# https://sidra.ibge.gov.br/tabela/7441#resultado\n",
        "# https://sidra.ibge.gov.br/tabela/7442#resultado\n",
        "# https://sidra.ibge.gov.br/tabela/7443#resultado\n",
        "# https://sidra.ibge.gov.br/tabela/7535#resultado\n",
        "# https://sidra.ibge.gov.br/tabela/7527#resultado"
      ]
    },
    {
      "cell_type": "code",
      "execution_count": null,
      "metadata": {
        "id": "F65v1UllcF9Z"
      },
      "outputs": [],
      "source": [
        "# Estado\tHomens\tMulheres\tBranca\tPreta\tParda\tFI\tFC\tMC\tSC\t14 a 17 anos\t18 a 29 anos\t30 a 39 anos\t40 a 49 anos\t50 a 59 anos\t60 anos ou mais\tMinimo\tMáximo\tAté o P5\tMaior que o P5 até o P10\tMaior que o P10 até o P20\tMaior que o P20 até o P30\tMaior que o P30 até o P40\tMaior que o P40 até o P50\tMaior que o P50 até o P60\tMaior que o P60 até o P70\tMaior que o P70 até o P80\tMaior que o P80 até o P90\tMaior que o P90 até o P95\tMaior que o P95 até o P99\tMaior que o P99\n",
        "rendas = {\n",
        "  'AC': [2240,2186,2730,2014,2116,1269.5,1506,1827.5,4146,681,1598,2302,2524,2781,2320,1596.75,2974.25,257,486,804,1138,1202,1230,1481,1886,2455,3453,5127,8448,20050],\n",
        "  'AL': [1882,1629,2138,1431,1677,989,1171,1996.5,3799,468,1315,1930,1938,2002,2524,1129.25,2585.75,166,320,532,885,1191,1200,1209,1321,1721,2477,3735,7007,20351],\n",
        "  'AP': [2365,2354,3455,1967,2121,1226.5,1227,1823.5,4487,499,1592,2107,2775,3123,3375,1511.75,3420.5,246,431,613,990,1199,1218,1450,1881,2414,3733,5658,10432,23469],\n",
        "  'AM': [2052,1891,2600,1961,1864,968.5,1198,1720,4627,683,1390,2066,2205,2480,2493,1409,2943,181,313,519,845,1112,1205,1292,1586,2081,3022,4997,8650,17335],\n",
        "  'BA': [1712,1585,2231,1490,1568,943.5,1132.5,1642,3904,654,1231,1718,1951,1817,1805,1342.75,2449.5,103,231,410,650,973,1196,1207,1314,1733,2453,3888,7013,15664],\n",
        "  'CE': [1877,1674,2300,1939,1555,871.5,1132.5,1641.5,4236,498,1416,1909,1770,2086,2332,1990.75,2686.25,118,236,413,675,1022,1201,1212,1337,1756,2655,4133,7334,21157],\n",
        "  'DF': [4984,3722,5950,3175,3647,1784.5,1905.5,2650.5,7696,684,2225,4405,5787,5385,5736,3819.25,6104.25,439,831,1176,1275,1544,1947,2571,3409,5069,7845,12022,19737,36640],\n",
        "  'ES': [3045,2084,3440,1903,2243,1631.5,1695.5,2192,5349,671,1810,2958,2886,2864,3324,1712.5,3789.5,319,621,983,1205,1276,1477,1758,2115,2776,3938,5762,11380,29208],\n",
        "  'GO': [2936,1998,3146,2064,2249,1500,1831.5,2294.5,4610,841,1768,3104,2669,2745,3058,1600.75,3449,346,706,1122,1212,1301,1529,1836,2146,2694,3647,5435,9565,26540],\n",
        "  'MA': [1750,1533,2389,1499,1504,888.5,1063,1671.5,3783,457,1195,1733,1763,2084,2374,1138,2574,106,230,391,619,930,1191,1207,1325,1714,2440,3831,6747,18776],\n",
        "  'MT': [3199,2303,3595,2351,2571,2166.5,2202,2578,4674,1009,2220,3140,3171,3252,3252,1966.25,3680,409,820,1174,1263,1533,1903,2153,2643,3216,4445,5870,9851,25123],\n",
        "  'MS': [3371,2450,3723,2302,2420,2001.5,1919,2643.5,5347,880,2036,3150,3462,3549,3831,1887.75,4068,363,771,1174,1294,1483,1727,2055,2531,3118,4644,7019,12032,25848],\n",
        "  'MG': [2642,1912,2825,1844,2031,1350,1797.5,2108,4410,716,1722,2537,2650,2461,2844,1455.5,3180.25,284,581,974,1203,1227,1404,1630,1958,2453,3345,4967,9006,23708],\n",
        "  'PA': [2007,1743,2805,1727,1719,1093.5,1256.5,1851,4768,580,1344,1975,2137,2505,2259,1473.25,3021.25,140,282,468,724,1051,1201,1251,1534,1967,2752,4324,8556,23010],\n",
        "  'PB': [2283,1828,2266,1509,2130,866.5,1110,1768,6313,406,1264,1838,3456,1934,2536,1213.25,3579.5,121,233,410,696,1072,1199,1204,1299,1666,2452,4212,7437,54954],\n",
        "  'PR': [3268,2438,3276,2399,2191,1645,1965.5,2361,5456,882,2158,3085,3243,3432,3436,1789,3859,438,840,1172,1360,1534,1772,2012,2479,3095,4337,6414,11165,28750],\n",
        "  'PE': [1967,1594,2211,1821,1595,1001,1143,1694.5,4076,546,1344,1903,1949,2135,2302,1184,2639,127,269,480,777,1102,1200,1215,1361,1789,2607,4248,7875,19698],\n",
        "  'PI': [2067,1747,2683,1908,1683,748.5,1179.5,1554.5,4461,327,1157,2133,2327,2259,2381,2054.5,2898,83,181,325,546,841,1173,1206,1368,2042,3138,5123,9245,20399],\n",
        "  'RJ': [3477,2868,4159,2150,2506,1590.5,1633.5,2545.5,6369,597,1951,3359,3720,3599,3869,2996,4468.5,355,707,1099,1210,1339,1578,1961,2454,3259,4888,8293,14421,33735],\n",
        "  'RN': [2395,1951,2786,2221,1809,977.5,1435.5,1976.5,5068,600,1604,2257,2363,2558,3028,2357,3319.25,170,355,625,1022,1200,1208,1282,1542,2073,3138,5195,10143,29751],\n",
        "  'RS': [3329,2488,3177,1929,2142,1788.5,1997.5,2779,5248,961,2080,3137,3428,3361,3214,2039.25,3795.5,399,801,1175,1354,1546,1833,2087,2545,3186,4521,6585,11375,27471],\n",
        "  'RO': [2554,1971,2770,1906,2194,1629,1900,2100,4022,854,1851,2449,2624,2576,2815,1590,3040.25,337,662,1012,1205,1288,1507,1756,2067,2643,3502,4940,7687,19955],\n",
        "  'RR': [2663,2359,3658,1937,2351,1484.5,1525.5,2299.5,4594,708,1884,2686,2900,2502,4468,2399.5,3845.75,413,684,1064,1200,1208,1276,1540,2041,2648,3901,6276,9321,26629],\n",
        "  'SC': [3408,2536,3219,2260,2354,2093.5,2209.5,2632,5041,1073,2276,3310,3518,3193,3487,2125.25,3796.5,603,1078,1277,1538,1786,1987,2233,2654,3222,4439,6117,10587,26705],\n",
        "  'SP': [3651,2765,3815,2464,2344,2088,1847,2481,6018,947,2141,3522,3953,3561,3474,1975.75,4359.25,396,833,1164,1337,1555,1839,2106,2652,3318,4756,7602,13689,34056],\n",
        "  'SE': [2176,1810,2573,1782,1819,1004.5,1275,1624.5,4816,451,1389,2306,2175,2420,2140,1329.5,2996.25,121,252,452,741,1096,1200,1212,1394,1860,2874,4875,10274,25399],\n",
        "  'TO': [2628,2130,3732,1982,2106,1391.5,1405,1946.5,5538,778,1644,2846,2939,2409,3016,1573.75,3728.5,240,458,757,1126,1204,1245,1464,1789,2319,3479,5392,10738,32694]\n",
        "}"
      ]
    },
    {
      "cell_type": "code",
      "execution_count": null,
      "metadata": {
        "id": "r5XF4W_eVOnY"
      },
      "outputs": [],
      "source": [
        "def ajustarRendaPorFaixa(renda, dados):\n",
        "  minimo = dados[15]\n",
        "  maximo = dados[16]\n",
        "  faixa = (renda - minimo) / (maximo - minimo) * 100\n",
        "\n",
        "  if faixa < 5: renda = dados[17]\n",
        "  elif faixa < 10: renda = dados[18]\n",
        "  elif faixa < 20: renda = dados[19]\n",
        "  elif faixa < 30: renda = dados[20]\n",
        "  elif faixa < 40: renda = dados[21]\n",
        "  elif faixa < 50: renda = dados[22]\n",
        "  elif faixa < 60: renda = dados[23]\n",
        "  elif faixa < 70: renda = dados[24]\n",
        "  elif faixa < 80: renda = dados[25]\n",
        "  elif faixa < 90: renda = dados[26]\n",
        "  elif faixa < 95: renda = dados[27]\n",
        "  elif faixa < 99: renda = dados[28]\n",
        "  else: renda = dados[29]\n",
        "\n",
        "  # Adicionando variação de 10%\n",
        "  variacao = np.random.random() / 10\n",
        "  if np.random.random() > 0.5:\n",
        "    renda += renda*variacao\n",
        "  else:\n",
        "    renda -= renda*variacao\n",
        "\n",
        "  return renda"
      ]
    },
    {
      "cell_type": "code",
      "execution_count": null,
      "metadata": {
        "id": "sD5XeRpZ5pIk"
      },
      "outputs": [],
      "source": [
        "def getRenda(dados, idade, genero, raca, escolaridade):\n",
        "  rendaIdade = 0.0\n",
        "\n",
        "  if idade < 14:\n",
        "    return rendaIdade\n",
        "  elif idade <= 17:\n",
        "    rendaIdade = dados[9]\n",
        "  elif idade <= 29:\n",
        "    rendaIdade = dados[10]\n",
        "  elif idade <= 39:\n",
        "    rendaIdade = dados[11]\n",
        "  elif idade <= 49:\n",
        "    rendaIdade = dados[12]\n",
        "  elif idade <= 59:\n",
        "    rendaIdade = dados[13]\n",
        "  else:\n",
        "    rendaIdade = dados[14]\n",
        "\n",
        "  rendaGenero = 0.0\n",
        "  if genero == 'M':\n",
        "    rendaGenero = dados[0]\n",
        "  else:\n",
        "    rendaGenero = dados[1]\n",
        "\n",
        "  rendaRaca = 0.0\n",
        "  if raca == 'B':\n",
        "    rendaRaca = dados[2]\n",
        "  elif raca == 'PR':\n",
        "    rendaRaca = dados[3]\n",
        "  else:\n",
        "    rendaRaca = dados[4]\n",
        "\n",
        "  rendaEscolaridade = 0.0\n",
        "  if escolaridade == 'FI':\n",
        "    rendaEscolaridade = dados[5]\n",
        "  elif escolaridade == 'FC':\n",
        "    rendaEscolaridade = dados[6]\n",
        "  elif escolaridade == 'MC':\n",
        "    rendaEscolaridade = dados[7]\n",
        "  else:\n",
        "    rendaEscolaridade = dados[8]\n",
        "\n",
        "  renda = (rendaIdade + rendaGenero + rendaRaca + rendaEscolaridade) / 4\n",
        "\n",
        "  renda = ajustarRendaPorFaixa(renda, dados)\n",
        "\n",
        "  return round(renda, 2)"
      ]
    },
    {
      "cell_type": "code",
      "execution_count": null,
      "metadata": {
        "id": "Ju8ca_6syuNU"
      },
      "outputs": [],
      "source": [
        "estados = conn.execute(\"select id, estado from estado order by id\")\n",
        "generos = conn.execute(\"select genero from genero order by id\")\n",
        "racas = conn.execute(\"select raca from raca order by id\")\n",
        "escolaridades = conn.execute(\"select escolaridade from escolaridade order by id\")\n",
        "idades = conn.execute(\"select idade from idade order by id\")"
      ]
    },
    {
      "cell_type": "code",
      "execution_count": null,
      "metadata": {
        "id": "mIOXGm9q3iQ0"
      },
      "outputs": [],
      "source": [
        "idx = 0\n",
        "\n",
        "while idx < n_populacao:\n",
        "\n",
        "  id_estado = estados.fetchone()\n",
        "  if id_estado is None:\n",
        "    break\n",
        "\n",
        "  dados = rendas[id_estado[1]]\n",
        "\n",
        "  idade = idades.fetchone()[0]\n",
        "  genero = generos.fetchone()[0]\n",
        "  raca = racas.fetchone()[0]\n",
        "  escolaridade = escolaridades.fetchone()[0]\n",
        "\n",
        "  renda = getRenda(dados, idade, genero, raca, escolaridade)\n",
        "\n",
        "  cursor.execute( f\"INSERT INTO renda (id, renda) VALUES ({id_estado[0]}, '{renda}')\" )\n",
        "\n",
        "  idx += 1\n",
        "  if idx % 5000000 == 0:\n",
        "    print (idx/203062512*100, \"%\")"
      ]
    },
    {
      "cell_type": "code",
      "execution_count": null,
      "metadata": {
        "id": "sFarIwwgJvw1"
      },
      "outputs": [],
      "source": [
        "conn.commit()"
      ]
    },
    {
      "cell_type": "markdown",
      "metadata": {
        "id": "WW66TSK6wH6k"
      },
      "source": [
        "# Finalizar base de dados"
      ]
    },
    {
      "cell_type": "code",
      "execution_count": null,
      "metadata": {
        "id": "Q5YNTK8kAj5f"
      },
      "outputs": [],
      "source": [
        "# Adicionar índices\n",
        "conn.execute(\"CREATE UNIQUE INDEX index_estado on estado (id);\")\n",
        "conn.execute(\"CREATE UNIQUE INDEX index_genero on genero (id);\")\n",
        "conn.execute(\"CREATE UNIQUE INDEX index_raca on raca (id);\")\n",
        "conn.execute(\"CREATE UNIQUE INDEX index_idade on idade (id);\")\n",
        "conn.execute(\"CREATE UNIQUE INDEX index_escolaridade on escolaridade (id);\")\n",
        "conn.execute(\"CREATE UNIQUE INDEX index_renda on renda (id);\")"
      ]
    },
    {
      "cell_type": "code",
      "execution_count": null,
      "metadata": {
        "id": "JhR6yyNC_X9K"
      },
      "outputs": [],
      "source": [
        "# Juntar tabelas\n",
        "conn.execute('''CREATE TABLE brasileiros2022 AS\n",
        "SELECT estado.id, estado, genero, raca, idade, escolaridade, renda\n",
        "  FROM estado\n",
        "  INNER JOIN genero ON estado.id = genero.id\n",
        "  INNER JOIN raca ON estado.id = raca.id\n",
        "  INNER JOIN idade ON estado.id = idade.id\n",
        "  INNER JOIN escolaridade ON estado.id = escolaridade.id\n",
        "  INNER JOIN renda ON estado.id = renda.id;''')"
      ]
    },
    {
      "cell_type": "code",
      "execution_count": null,
      "metadata": {
        "id": "gqJ_7k1awKz1"
      },
      "outputs": [],
      "source": [
        "# Ajustar escolaridade de acordo com a idade\n",
        "conn.execute(\"UPDATE brasileiros2022 SET escolaridade = 'MC' WHERE escolaridade = 'SC' and idade >= 14 and idade <= 22;\")\n",
        "\n",
        "conn.execute(\"UPDATE brasileiros2022 SET escolaridade = 'FC' WHERE escolaridade = 'MC' and idade >= 14 and idade <= 17;\")\n",
        "\n",
        "conn.execute(\"UPDATE brasileiros2022 SET escolaridade = 'FI' WHERE escolaridade = 'FC' and idade = 15;\")\n",
        "\n",
        "conn.execute(\"UPDATE brasileiros2022 SET escolaridade = 'FI' WHERE idade < 14;\")"
      ]
    },
    {
      "cell_type": "code",
      "execution_count": null,
      "metadata": {
        "id": "sVIPN-8GJxXI"
      },
      "outputs": [],
      "source": [
        "conn.commit()"
      ]
    },
    {
      "cell_type": "code",
      "execution_count": null,
      "metadata": {
        "id": "bb3guNosJldm"
      },
      "outputs": [],
      "source": [
        "r_set=conn.execute('''select count(*) from brasileiros2022 limit 100''')\n",
        "for row in r_set:\n",
        "  print(row)"
      ]
    }
  ],
  "metadata": {
    "colab": {
      "provenance": []
    },
    "kernelspec": {
      "display_name": "Python 3",
      "name": "python3"
    },
    "language_info": {
      "name": "python"
    }
  },
  "nbformat": 4,
  "nbformat_minor": 0
}